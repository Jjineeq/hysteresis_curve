{
 "cells": [
  {
   "cell_type": "code",
   "execution_count": 8,
   "metadata": {},
   "outputs": [],
   "source": [
    "import pandas as pd\n",
    "import numpy as np\n",
    "import matplotlib.pyplot as plt\n",
    "import warnings\n",
    "warnings.filterwarnings('ignore')\n",
    "import scipy"
   ]
  },
  {
   "cell_type": "code",
   "execution_count": 12,
   "metadata": {},
   "outputs": [],
   "source": [
    "df = scipy.io.loadmat('PINNs-master/main/Data/KdV.mat')"
   ]
  },
  {
   "cell_type": "code",
   "execution_count": 14,
   "metadata": {},
   "outputs": [],
   "source": [
    "t_star = df['tt'].flatten()[:,None]\n",
    "x_star = df['x'].flatten()[:,None]\n",
    "Exact = np.real(df['uu'])"
   ]
  },
  {
   "cell_type": "code",
   "execution_count": 19,
   "metadata": {},
   "outputs": [
    {
     "data": {
      "text/plain": [
       "array([[-1.        , -0.99986138, -0.99944613, ..., -0.2990494 ,\n",
       "        -0.30680348, -0.31504228],\n",
       "       [-0.9999247 , -0.99958875, -0.99897688, ..., -0.30593341,\n",
       "        -0.3141108 , -0.32274729],\n",
       "       [-0.99969882, -0.99916579, -0.99835783, ..., -0.31316908,\n",
       "        -0.32174456, -0.33075232],\n",
       "       ...,\n",
       "       [-0.99932238, -0.99977614, -0.99995277, ..., -0.28074235,\n",
       "        -0.2870876 , -0.29398577],\n",
       "       [-0.99969882, -0.99995518, -0.99993429, ..., -0.28643157,\n",
       "        -0.29326822, -0.30063664],\n",
       "       [-0.9999247 , -0.99998356, -0.99976534, ..., -0.29254114,\n",
       "        -0.29984787, -0.30766359]])"
      ]
     },
     "execution_count": 19,
     "metadata": {},
     "output_type": "execute_result"
    }
   ],
   "source": [
    "Exact"
   ]
  }
 ],
 "metadata": {
  "kernelspec": {
   "display_name": "Python 3",
   "language": "python",
   "name": "python3"
  },
  "language_info": {
   "codemirror_mode": {
    "name": "ipython",
    "version": 3
   },
   "file_extension": ".py",
   "mimetype": "text/x-python",
   "name": "python",
   "nbconvert_exporter": "python",
   "pygments_lexer": "ipython3",
   "version": "3.11.4"
  },
  "orig_nbformat": 4
 },
 "nbformat": 4,
 "nbformat_minor": 2
}
