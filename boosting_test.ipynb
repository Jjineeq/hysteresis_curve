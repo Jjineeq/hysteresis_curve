{
 "cells": [
  {
   "cell_type": "code",
   "execution_count": 2,
   "metadata": {},
   "outputs": [],
   "source": [
    "import pandas as pd\n",
    "import numpy as np\n",
    "import matplotlib.pyplot as plt\n",
    "import warnings\n",
    "warnings.filterwarnings('ignore')\n",
    "import scipy"
   ]
  },
  {
   "cell_type": "code",
   "execution_count": 3,
   "metadata": {},
   "outputs": [],
   "source": [
    "df = scipy.io.loadmat('PINNs-master/main/Data/KdV.mat')"
   ]
  },
  {
   "cell_type": "code",
   "execution_count": 4,
   "metadata": {},
   "outputs": [],
   "source": [
    "t_star = df['tt'].flatten()[:,None]\n",
    "x_star = df['x'].flatten()[:,None]\n",
    "Exact = np.real(df['uu'])"
   ]
  },
  {
   "cell_type": "code",
   "execution_count": 7,
   "metadata": {},
   "outputs": [
    {
     "data": {
      "text/plain": [
       "(512, 201)"
      ]
     },
     "execution_count": 7,
     "metadata": {},
     "output_type": "execute_result"
    }
   ],
   "source": [
    "Exact.shape"
   ]
  },
  {
   "cell_type": "code",
   "execution_count": 8,
   "metadata": {},
   "outputs": [],
   "source": [
    "q = 50\n",
    "skip = 120\n",
    "\n",
    "N0 = 199\n",
    "N1 = 201"
   ]
  },
  {
   "cell_type": "code",
   "execution_count": 9,
   "metadata": {},
   "outputs": [],
   "source": [
    "idx_x = np.random.choice(Exact.shape[0], N0, replace=False)"
   ]
  },
  {
   "cell_type": "code",
   "execution_count": 10,
   "metadata": {},
   "outputs": [
    {
     "data": {
      "text/plain": [
       "array([429, 247, 411, 117, 153, 309,  51, 160,  27, 255, 385, 493, 474,\n",
       "       116,  20, 435, 271, 279, 499, 450,  31, 234, 110, 202,  46,  72,\n",
       "        73, 327, 483, 121,  42, 300, 254,  30, 428, 135, 196, 297, 457,\n",
       "         5, 141,  25, 199, 363, 416, 354, 509, 486, 146, 478, 304, 118,\n",
       "       467, 293, 224,  37, 370, 212, 380, 194, 276, 458, 170, 352, 111,\n",
       "       321, 413, 476, 228, 399, 185, 107, 317, 104, 347, 103, 221, 496,\n",
       "       252, 210, 208, 492, 284, 186,   1, 469, 371, 447, 149, 207,  32,\n",
       "       348, 510, 167, 451, 192, 285, 273, 477, 154, 397, 165, 155, 350,\n",
       "        53, 334, 147, 239, 341, 305, 174, 292, 462, 108, 173, 325, 311,\n",
       "       289, 436,  90,   3,  99,  26,   7, 261, 381, 422, 229,  21, 349,\n",
       "        69, 330, 508, 159, 123, 188,  60, 308,  66, 189, 432,  38, 200,\n",
       "       296, 328, 220,  16, 401, 495, 414, 359, 366, 114,  35, 126, 504,\n",
       "       424,  91,  24,  48,  12, 203, 430, 395,   6, 249,  58, 312,  79,\n",
       "       226, 502, 100, 464,  80, 489, 295, 374, 145, 473,  64, 433, 299,\n",
       "       260, 113, 197, 506, 225, 408,  83, 314, 102, 201, 262, 398, 156,\n",
       "       498, 319, 242, 166])"
      ]
     },
     "execution_count": 10,
     "metadata": {},
     "output_type": "execute_result"
    }
   ],
   "source": [
    "idx_x"
   ]
  },
  {
   "cell_type": "code",
   "execution_count": null,
   "metadata": {},
   "outputs": [],
   "source": []
  }
 ],
 "metadata": {
  "kernelspec": {
   "display_name": "Python 3",
   "language": "python",
   "name": "python3"
  },
  "language_info": {
   "codemirror_mode": {
    "name": "ipython",
    "version": 3
   },
   "file_extension": ".py",
   "mimetype": "text/x-python",
   "name": "python",
   "nbconvert_exporter": "python",
   "pygments_lexer": "ipython3",
   "version": "3.11.4"
  },
  "orig_nbformat": 4
 },
 "nbformat": 4,
 "nbformat_minor": 2
}
